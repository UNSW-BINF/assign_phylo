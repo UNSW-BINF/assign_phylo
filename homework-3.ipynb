{
 "cells": [
  {
   "cell_type": "markdown",
   "metadata": {},
   "source": [
    "# How similar is SARS-Cov-2 to other viruses?\n",
    "\n",
    "Evolution is the process by which different living organisms are believed to have developed from earlier forms during the earth's history. The main component that evolves through time is the DNA which is passed on to the next generation. Genetic mutations, variation, and recombination are processes that modify DNA and cause variation in the population. The main drivers of evolution are natural selection and genetic drift that act on this variation. Through time, some characteristics become more common or rare in the population resulting in a change in heritable ones arising over successive generations.\n",
    "\n",
    "Even though we do not consider viruses to be *living* organisms, they are still subject to evolution. Their genetic material undergoes the same transformations and selection, resulting in new variants and types of viruses.\n",
    "\n",
    "<div>\n",
    "    <img src=\"https://upload.wikimedia.org/wikipedia/commons/thumb/7/70/Phylogenetic_tree.svg/800px-Phylogenetic_tree.svg.png\" width=\"500\">\n",
    "</div>\n",
    "\n",
    "Image source: [Wikipedia](https://en.wikipedia.org/wiki/File:Phylogenetic_tree.svg)\n",
    "\n",
    "Comparing the characteristics of different organisms allows us to estimate their evolutionary distance. We use genetic material as a proxy for these characteristics. We estimate evolutionary distance as the number of transformation events that would occur for one organism to become genetically identical. In practice, this means aligning genetic sequences and observing the number of transformation events. Performing multiple sequence alignment and calculating pairwise distances gives us a distance matrix.\n",
    "\n",
    "One way of presenting the evolutionary distance between organisms is with a phylogenetic tree. Similar organisms are connected via their common ancestor, even though we do not have genetic data to prove their existence. However, these common ancestors likely existed in the past due to evolution. The most common algorithms for building phylogenetic trees are the UPGMA and Neighbor-Joining algorithms. Many frequentist and Bayesian variations of these are also available online.\n",
    "\n",
    "Once we know the evolution of the virus, we can expand our knowledge about similar viruses to our virus of interest. Our task is implementing the neighbor-joining method, a plotting function, and constructing a phylogenetic tree of coronaviruses. In the last problem, we will see how recombination can seemingly contradict the flow of evolution."
   ]
  },
  {
   "cell_type": "code",
   "execution_count": 3,
   "metadata": {},
   "outputs": [],
   "source": [
    "import numpy as np\n",
    "import pandas as pd\n",
    "from Bio import Entrez"
   ]
  },
  {
   "cell_type": "code",
   "execution_count": 5,
   "metadata": {},
   "outputs": [],
   "source": [
    "# In order to import from the python file without hassle, we add the current\n",
    "# directory to the python path\n",
    "import sys; sys.path.append(\".\")"
   ]
  },
  {
   "cell_type": "markdown",
   "metadata": {},
   "source": [
    "Let's let the nice folks at NCBI know who we are."
   ]
  },
  {
   "cell_type": "code",
   "execution_count": 6,
   "metadata": {},
   "outputs": [],
   "source": [
    "Entrez.email = \"yourname@student.unsw.edu.au\""
   ]
  },
  {
   "cell_type": "markdown",
   "metadata": {},
   "source": [
    "## Problem 1: Neighbor joining implementation\n",
    "\n",
    "**Task:** Use the template `neighbor_joining` function in the file `helper_functions.py` and implement the neighbor-joining (NJ) algorithm for agglomerative phylogenetic clustering. Your implementation should return a `Node` object to construct a tree structure and return a root Node. Use provided classes and add code where needed. Stick to the provided structure and test your solution with added unit tests. Provided unit tests do not test the correctness of your implementation but only the structure of your output.\n",
    "\n",
    "**Implementation requirement:** In theory, the neighbor-joining algorithm results in an unrooted tree. But for plotting and later rooting the tree, your implementation should return a root node. In the last iteration of the NJ, the algorithm joins the final two nodes by creating a root node and setting the distance to each of the remaining nodes as half of the distance between them.\n",
    "\n",
    "(Optional) In problem 2, you will be implementing a plotting function for a phylogenetic tree. For easier visual comparison of the dendrograms, you can follow instructions in the function docstring to handle node additions and tie-breaks. Even if you handle tie-breaks differently, your implementation will be valid.\n",
    "\n",
    "**[9 points]**\n",
    "\n",
    "Answer the following questions about the neighbour joining algorithm:\n",
    "- In some cases, the neighbour joining algorithm encounters ties in the Q-matrix when deciding which nodes to join. Can you think of an example where there are no ties (only one correct solution) when building a complete neighbour joining tree (at least 4 starting nodes)? If not, explain why.\n",
    "\n",
    "Store your answers in the `algorithm_ties` variable.\n",
    "\n",
    "**[1 points]**."
   ]
  },
  {
   "cell_type": "code",
   "execution_count": 24,
   "metadata": {},
   "outputs": [],
   "source": [
    "from helper_functions import neighbor_joining\n",
    "\n"
   ]
  },
  {
   "cell_type": "code",
   "execution_count": 177,
   "metadata": {},
   "outputs": [
    {
     "name": "stdout",
     "output_type": "stream",
     "text": [
      "DE\n",
      "AB\n",
      "CDE\n",
      "CDEAB\n"
     ]
    }
   ],
   "source": [
    "D = np.array(\n",
    "            [\n",
    "                [0, 14, 14, 12],\n",
    "                [0, 0, 16, 14],\n",
    "                [0, 0, 0, 6],\n",
    "                [0, 0, 0, 0],\n",
    "            ],\n",
    "            dtype=float,\n",
    "        )\n",
    "labels=list(\"ABCD\")\n",
    "D= np.array(\n",
    "            [\n",
    "                [0, 5, 4, 9, 8],\n",
    "                [0, 0, 5, 10, 9],\n",
    "                [0, 0, 0, 7, 6],\n",
    "                [0, 0, 0, 0, 7],\n",
    "                [0, 0, 0, 0, 0],\n",
    "            ],\n",
    "            dtype=float,\n",
    "        )\n",
    "\n",
    "D = D + D.T\n",
    "nodes=list(\"ABCDE\")\n",
    "labels=list(\"ABCDE\")\n",
    "original_D = D.copy()\n",
    "n=len(labels)\n",
    "clusters = [i for i in range(n)]\n",
    "adj = [[] for i in range(n)]\n",
    "node_dict={}\n",
    "for i in clusters:\n",
    "    node_dict[i]=Node(labels[i], None, 0, None, 0)\n",
    " \n",
    "while True:\n",
    "    if 2 == n:\n",
    "        adj[len(adj)-1].append((len(adj)-2, D[0][1]))\n",
    "        adj[len(adj)-2].append((len(adj)-1, D[0][1])) \n",
    "        new_node=nodes[len(adj)-1]+nodes[len(adj)-2] \n",
    "        print(new_node) \n",
    "        nodes.append(new_node)\n",
    "        node_dict[len(adj)]=Node(\"ROOT\", node_dict[len(adj)-1], D[0][1], node_dict[len(adj)-2], D[0][1])\n",
    "        break\n",
    "    totalDist = np.sum(D, axis = 0)\n",
    "    D1 = (n-2) * D\n",
    "    D1 = D1 - totalDist\n",
    "    D1 = D1 - totalDist.reshape((n, 1))\n",
    "    np.fill_diagonal(D1, 0.)\n",
    "    #print(D1)\n",
    "    #print(clusters)\n",
    "    index = np.argmin(D1)\n",
    "    i = index // n\n",
    "    j = index % n\n",
    "    #print(i,j)\n",
    "    #print(labels[i],labels[j])\n",
    "    delta = (totalDist[i] - totalDist[j])/(n-2)\n",
    "    li = (D[i, j]+delta)/2\n",
    "    lj = (D[i, j]-delta)/2\n",
    "    d_new = (D[i, :]+D[j, :]-D[i, j])/2\n",
    "    D = np.insert(D, n, d_new, axis = 0)\n",
    "    d_new = np.insert(d_new, n, 0., axis = 0)\n",
    "    D = np.insert(D, n, d_new, axis = 1)\n",
    "    D = np.delete(D, [i, j], 0)\n",
    "    D = np.delete(D, [i, j], 1)\n",
    "    #print(D)\n",
    "    #print(clusters)\n",
    "    m = len(adj)\n",
    "    #print(i,j,m) \n",
    "    #print(\"clusters:\", i,clusters[i],j,clusters[j],m)   \n",
    "    new_node=nodes[clusters[i]]+nodes[clusters[j]] \n",
    "\n",
    "    node_dict[m]=Node(new_node, node_dict[clusters[i]], li, node_dict[clusters[j]], lj)\n",
    "    print(new_node)\n",
    "    adj.append([])\n",
    "    adj[m].append((clusters[i], li))\n",
    "    adj[clusters[i]].append((m, li))\n",
    "    adj[m].append((clusters[j], lj))\n",
    "    adj[clusters[j]].append((m, lj))    \n",
    "    if i < j:\n",
    "        del clusters[j]\n",
    "        del clusters[i]\n",
    "    else:\n",
    "        del clusters[i]\n",
    "        del clusters[j]\n",
    "    clusters.append(m)\n",
    "    nodes.append(new_node)\n",
    "\n",
    "    #print(clusters)\n",
    "    #print(nodes)\n",
    "    n -= 1\n",
    "\n"
   ]
  },
  {
   "cell_type": "code",
   "execution_count": null,
   "metadata": {},
   "outputs": [],
   "source": [
    "print(node_dict.keys()) \n",
    "all_nodes=nodes \n",
    "all_nodes[-1]"
   ]
  },
  {
   "cell_type": "code",
   "execution_count": 279,
   "metadata": {},
   "outputs": [
    {
     "name": "stdout",
     "output_type": "stream",
     "text": [
      "0->6:2.000\n",
      "1->6:3.000\n",
      "2->7:1.000\n",
      "3->5:4.000\n",
      "4->5:3.000\n",
      "5->3:4.000\n",
      "5->4:3.000\n",
      "5->7:2.000\n",
      "6->0:2.000\n",
      "6->1:3.000\n",
      "6->7:1.000\n",
      "7->2:1.000\n",
      "7->5:2.000\n",
      "7->6:1.000\n"
     ]
    }
   ],
   "source": [
    "adj_rev = reversed(adj)\n",
    "for i, nodes in enumerate(adj):\n",
    "    for d, w in nodes:\n",
    "        print(str(i)+'->'+str(d)+':'+'%0.3f' % w)"
   ]
  },
  {
   "cell_type": "code",
   "execution_count": null,
   "metadata": {},
   "outputs": [],
   "source": [
    "algorithm_ties = \"\"\"\n",
    "Can you think of an example where there are no ties (only one correct solution) when building a complete neighbour joining tree (at least 4 starting nodes)?\n",
    "If not, explain why.\n",
    "\"\"\""
   ]
  },
  {
   "cell_type": "markdown",
   "metadata": {},
   "source": [
    "## Problem 2: Plotting a phylogenetic tree\n",
    "\n",
    "**Task:**\n",
    "Use the template `plot_nj_tree` function in the file `helper_functions.py` to write a plotting function using the `matplotlib` library.\n",
    "The only limitation is to use the template function and two required inputs. How you position a dendrogram, colour the plot, labels and everything else is up to you.\n",
    "\n",
    "Leaves in a dendrogram are connected via horizontal and vertical lines. Horizontal lines represent genetic distance, while vertical ones present divergence of the last common ancestor. Below is an example of a dendrogram. Leaves do not align on a vertical line as with hierarchical clustering.\n",
    "\n",
    "<div>\n",
    "    <img src=\"https://upload.wikimedia.org/wikipedia/commons/d/dd/Phylogenetic_tree_of_coronaviruses.jpg\" width=\"500\">\n",
    "</div>\n",
    "\n",
    "*(Patrick C. Y. Woo, Yi Huang, Susanna K. P. Lau, and Kwok-Yung Yuen, [CC BY 3.0](https://creativecommons.org/licenses/by/3.0/deed.en) )*\n",
    "\n",
    "Test your implementation to our provided unit tests by comparing your output plot to the ground truth in `tests/test_plotting_dendrogram.png`. Write your own tests as well.\n",
    "\n",
    "**[10 points]**"
   ]
  },
  {
   "cell_type": "code",
   "execution_count": null,
   "metadata": {},
   "outputs": [],
   "source": [
    "from helper_functions import plot_nj_tree\n",
    "import matplotlib.pyplot as plt\n",
    "from helper_functions import Node"
   ]
  },
  {
   "cell_type": "code",
   "execution_count": null,
   "metadata": {},
   "outputs": [
    {
     "name": "stdout",
     "output_type": "stream",
     "text": [
      "C 0.5 2.0\n",
      "D 0.75 7.0\n",
      "E 2.25 6.0\n",
      "DE 1.5 6.0\n",
      "CDE 1.0 6.0\n",
      "A 1.5 8.0\n",
      "B 4.5 9.0\n",
      "AB 3.0 9.0\n",
      "ROOT 2.0 9.0\n",
      "9.0 2.0\n"
     ]
    },
    {
     "data": {
      "image/png": "[encoded data removed]",
      "text/plain": [
       "<Figure size 800x800 with 1 Axes>"
      ]
     },
     "metadata": {},
     "output_type": "display_data"
    }
   ],
   "source": [
    "fig, ax = plt.subplots(nrows=1, ncols=1, figsize=(8, 8))\n",
    "n=len(all_nodes[-1])\n",
    "#print(list(all_nodes[-1])) \n",
    "h = 10\n",
    "mi = (n-1)/2\n",
    "ni = 1\n",
    "height=0\n",
    "node_y={}\n",
    "node_x={}\n",
    "j = 0\n",
    "\n",
    "for i in list(all_nodes[-1]):\n",
    "    node_x[i]=j\n",
    "    node_x[i]=0\n",
    "    plt.plot(0,j, color=\"white\", marker=\"X\")\n",
    "    j += 1\n",
    "\n",
    "\n",
    "def plot_node(node,x,height,color=\"purple\"): \n",
    "        current_lab=getattr(node, \"name\")\n",
    "        plt.plot(-height, x, color=color, marker=\"o\")\n",
    "        current_height_l=getattr(node, \"left_distance\")\n",
    "        current_height_r=getattr(node, \"right_distance\")\n",
    "        current_left_node=getattr(node, \"left\")\n",
    "        current_right_node=getattr(node, \"right\")\n",
    "        #plt.plot(x-ni,height-current_height_l, color=\"orange\", marker=\"X\")   \n",
    "        #plt.plot(x+ni,height-current_height_r, color=\"pink\", marker=\"X\")        \n",
    "\n",
    "def depth_search(current,height,x): \n",
    "    current_lab=getattr(current, \"name\")\n",
    "    current_height_l=getattr(current, \"left_distance\")\n",
    "    current_height_r=getattr(current, \"right_distance\")\n",
    "    current_left_node=getattr(current, \"left\")\n",
    "    current_right_node=getattr(current, \"right\")\n",
    "    current_left_node_lab=\"None\" \n",
    "    current_right_node_lab=\"None\" \n",
    "    x_l = x - (x/2)\n",
    "    x_r = x + (x/2) \n",
    "    #print(height, current_height_r,current_height_l)  \n",
    "    if( current_left_node ): \n",
    "        current_left_node_lab=getattr(current_left_node, \"name\")\n",
    "        #print(current_left_node_lab,\"left?\", current_height_l,height)\n",
    "        height,x_l = depth_search(current_left_node,current_height_l+height,x_l)  \n",
    "        plot_node(current, x_l, height, \"orange\")   \n",
    "        #print(current_left_node_lab)\n",
    "    if( current_right_node ):\n",
    "        current_right_node_lab=getattr(current_right_node, \"name\")    \n",
    "        #print(current_right_node_lab, \"right?\", current_height_r,height)\n",
    "        height,x_r = depth_search(current_right_node,current_height_r+height-current_height_l,x_r)    \n",
    "        plot_node(current, x_r, height, \"yellow\") \n",
    "        #print(current_right_node_lab)\n",
    "    #print(current_lab, height, current_left_node_lab, current_height_l, current_right_node_lab, current_height_r)\n",
    "    print(current_lab, x, height)\n",
    "    #plot_node(current, x, height) \n",
    "    return height,x\n",
    "    \n",
    "\n",
    "for i in node_dict.keys():\n",
    "    current=node_dict[i]\n",
    "    current_lab=getattr(current, \"name\")\n",
    "    if(current_lab==\"ROOT\"):\n",
    "        current_height_l=getattr(current, \"left_distance\")\n",
    "        current_height_r=getattr(current, \"right_distance\")\n",
    "        current_left_node=getattr(current, \"left\")\n",
    "        current_right_node=getattr(current, \"right\")\n",
    "        break \n",
    "         \n",
    "height,x = depth_search(current,0,(n-1)/2)    \n",
    "print(height,x)\n",
    "plot_node(current, x, height) \n",
    " \n",
    "   "
   ]
  },
  {
   "cell_type": "code",
   "execution_count": null,
   "metadata": {},
   "outputs": [],
   "source": [
    "\n",
    "for i in node_dict.keys():\n",
    "    current=node_dict[i]\n",
    "    current_lab=getattr(current, \"name\")\n",
    "    current_height_l=getattr(current, \"left_distance\")\n",
    "    current_height_r=getattr(current, \"right_distance\")\n",
    "    current_left_node=getattr(current, \"left\")\n",
    "    current_right_node=getattr(current, \"right\")\n",
    "    current_left_node_lab=\"None\" \n",
    "    current_right_node_lab=\"None\" \n",
    "      \n",
    "    if( current_left_node ): \n",
    "        current_left_node_lab=getattr(current_left_node, \"name\")\n",
    "    if( current_right_node ):\n",
    "        current_right_node_lab=getattr(current_right_node, \"name\")    \n",
    "    print(current_lab, current_left_node_lab, current_height_l, current_right_node_lab, current_height_r)\n",
    "\n",
    "\n",
    "\n",
    "for i in node_dict.keys():\n",
    "    current=node_dict[i]\n",
    "    current_lab=getattr(current, \"name\")\n",
    "    current_height_l=getattr(current, \"left_distance\")\n",
    "    current_height_r=getattr(current, \"right_distance\")\n",
    "    current_left_node=getattr(current, \"left\")\n",
    "    current_right_node=getattr(current, \"right\")   \n",
    "\n",
    "    if( current_left_node ): \n",
    "        current_left_node_lab=getattr(current_left_node, \"name\")\n",
    "        node_xy[current_right_node_lab] = x + (x-1)/2  \n",
    "    if( current_right_node ):\n",
    "        current_right_node_lab=getattr(current_right_node, \"name\")    \n",
    "        node_xy[current_left_node_lab] = x - (x-1)/2  \n",
    "        \n",
    "    height += (current_height_r + current_height_l)/2\n",
    "    print(current_height_l,current_height_r)    \n",
    "    if(current_lab==\"ROOT\"):\n",
    "        plot_node(current,x,height)\n",
    "        break \n",
    "    elif(i < n): \n",
    "        plt.plot(i,0, color=\"green\", marker=\"X\")\n",
    "    else:\n",
    "        x_r = node_xy[current_right_node_lab] \n",
    "        x_l = node_xy[current_left_node_lab] \n",
    "        \n",
    "        plot_node(current,x_r,current_height_r)\n",
    "        plot_node(current,x_l,current_height_l)\n",
    "        \n",
    "        \n",
    "print(node_xy.keys()) \n",
    "print(node_xy.values()) \n"
   ]
  },
  {
   "cell_type": "markdown",
   "metadata": {},
   "source": [
    "## Problem 3: Phylogenetic analysis of coronavirus\n",
    "\n",
    "You obtained 31 aligned sequences of different coronaviruses collected at multiple time points worldwide. We used the Clustal algorithm to provide you with a multiple sequence alignment (MSA) file in `data/clustal_MSA_coronavirus.fasta`. Each entry has a form `name|accession`.\n",
    "\n",
    "We will use Hamming distance to calculate genetic distance from pairwise sequence alignment. This naive approach estimates the distance by counting the number of mismatches in the alignment. For example, alignment *\"ATC\"* and *\"ATT\"* will have a distance of 1 while *\"AT-C\"* and *\"CTTC\"* will have a distance of 2. There are more sophisticated approaches to evolutionary distance estimation, but for our use case, Hamming distance will suffice.\n",
    "\n",
    "Plot a phylogenetic tree of coronaviruses using your implementation of `neighbor_joining` and `plot_nj_tree`.\n",
    "Compare your results to the ones found on [Wikipedia](https://en.wikipedia.org/wiki/Coronavirus). Note that three additional viruses in our alignment file do not appear in the figure.\n",
    "\n",
    "You might notice your figure differs from the one on Wikipedia. Neighbor-joining results in an unrooted or poorly rooted tree at best. Biologists developed a cleaver approach to determine the root of a neighbor-joining tree by including one distant relative species in the alignment, called the outgroup. In the course of evolution, a distance relative diverged first. We can determine the midpoint between the outgroup and the rest of the phylogenetic tree as a root. This approach proclaims the root node as the last common ancestor between all species in the tree. We will be using the *Breda virus* as an outgroup.\n",
    "\n",
    "Order in a dendrogram can give an impression of a nicer plot. We can achieve this by setting the left child as the one with fewer leaf nodes in a subtree.\n",
    "\n",
    "As a final step, fetch NCBI annotations to determine their coronavirus group. Present those groupings on your figure with colors.\n",
    "\n",
    "**Task:** Plot the most informative phylogenetic tree by iteratively improving your implementation.\n",
    "\n",
    "**a)** Calculate pairwise distances of aligned sequences using Hamming distance.\n",
    "Construct and plot the phylogeny dendrogram using your implementations of neighbor-joining and plotting algorithm in `helper_functions`. **[4 points]**\n",
    "\n",
    "**b)** Reroot the tree using the provided `reroot_tree` function in the `helper_function`. Use it to reroot a tree using the *Breda virus* as an outgroup. You have to fetch an outgroup from the tree first, and then use the reroot function. If you added any other relational parameters to your `Node` class, make sure you adjust the function. **[+1 points]**\n",
    "\n",
    "**c)** Implement `sort_children_by_leaves` function in the `helper_function`. Use it to sort child nodes by assigning a left child to the one with fewer leaf nodes in their subtree. **[+1 points]**\n",
    "\n",
    "**d)** Use color and labeling to show four major groups of coronaviruses. You can find the type of coronavirus in the NCBI annotations under the *taxonomy* field. **[+1 points]**\n",
    "\n",
    "Save your final figure as `problem3.svg`. Make sure you save the figure using `plt.savefig('problem3.svg')` to ensure the correct format.\n",
    "\n",
    "**[7 points in total]**\n",
    "\n",
    "Then answer the following questions about the phylogenetic tree you have just drawn:\n",
    "- To which group does SARS-CoV-2 belong? Answer using only the group name.\n",
    "- Which of the following organisms would still be a valid outgroup in our case, and why?\n",
    "  - Duck coronavirus 2714 (gamma coronavirus)\n",
    "  - Betaarterivirus suid 1 (family Arteriviridae and order Nidovirales)\n",
    "  - Homo sapiens\n",
    "- Our phylogenetic tree comes without any measure of uncertainty. How would we improve our confidence in our phylogenetic relationships: would it be better to build a tree using a whole genome alignment or a consensus of several trees based on other gene alignments? Explain your reasoning.\n",
    "\n",
    "Save your answers in the variables `sars_cov_2_group`, `valid_outgroup_choice` and `phylogenetic_uncertainty` respectively.\n",
    "\n",
    "**[3 points]**"
   ]
  },
  {
   "cell_type": "code",
   "execution_count": 7,
   "metadata": {},
   "outputs": [],
   "source": [
    "# TODO"
   ]
  },
  {
   "cell_type": "code",
   "execution_count": null,
   "metadata": {},
   "outputs": [],
   "source": [
    "sars_cov_2_group = \"\"\"To which group does SARS-CoV-2 belong? Answer using only the group name.\"\"\""
   ]
  },
  {
   "cell_type": "code",
   "execution_count": null,
   "metadata": {},
   "outputs": [],
   "source": [
    "valid_outgroup_choice = \"\"\"Which of the following organisms would still be a valid outgroup in our case, and why?\"\"\""
   ]
  },
  {
   "cell_type": "code",
   "execution_count": null,
   "metadata": {},
   "outputs": [],
   "source": [
    "phylogenetic_uncertainty = \"\"\"How would we improve our confidence in our phylogenetic relationships\"\"\""
   ]
  },
  {
   "cell_type": "markdown",
   "metadata": {},
   "source": [
    "## Problem 4: Recombination\n",
    "\n",
    "We tend to think of evolution as a hierarchical process: we have some common ancestor that split into several sub-species through a series of random mutations. However, nothing is that straightforward in biology. There have been well-documented cases of horizontal gene transfer in nature where organisms swap entire chunks of DNA with each other. In viruses, something similar can happen as well. When a cell is infected with multiple virions (potentially different strains of the same virus), a *recombination event* can occur. Recombination occurs during the DNA copying process when, for whatever reason, the copier swaps out the virus template midway with a different template. For instance, we could start copying virus A, and then midway, the copier will switch to virus B, effectively resulting in new virus DNA that has DNA from both viruses A and B.\n",
    "\n",
    "During the start of the global pandemic, there was much confusion about the origins of SARS-CoV-2. We initially thought it came from bats. Then, at some point, people noticed that a critical piece of the spike protein -- the receptor binding domain (RBD) -- was more similar to the sequence of pangolin coronaviruses. This evidence points to recombination. Before the virus jumped to humans, there must have been some host infected with both the Bat RaTG13 coronavirus and the Pangolin coronavirus where this recombination happened.\n",
    "\n",
    "In this problem, we will look at the spike protein, look at the receptor binding domain, and check this evidence for recombination ourselves.\n",
    "\n",
    "**Task**:\n",
    "Find the spike proteins of the three viruses and align the sequences with each other using your global alignment implementation from the previous homework. Since we're comparing the differences between the bat and pangolin coronaviruses to the human virus, we only need to compute two alignments: human to bat and human to pangolin. We will then compare the differences between the two alignments. Find the RBD of SARS-CoV-2  using the [NCBI graphical view of the SARS-CoV-2 genome](https://www.ncbi.nlm.nih.gov/projects/sviewer/?id=NC_045512&tracks=[key:sequence_track,name:Sequence,display_name:Sequence,id:STD649220238,annots:Sequence,ShowLabel:false,ColorGaps:false,shown:true,order:1][key:gene_model_track,name:Genes,display_name:Genes,id:STD3194982005,annots:Unnamed,Options:ShowAllButGenes,CDSProductFeats:true,NtRuler:true,AaRuler:true,HighlightMode:2,ShowLabel:true,shown:true,order:9]&v=1:29903&c=null&select=null&slim=0) and look at the aminoacid similarity inside and outside the RBD. Similarly to the original publication, we will use a sliding window approach to calculate the similarity between sequences. Calculate the average number of matching amino acids for each window location in the alignment and plot the resulting similarity sequence. A window size of 100 is a good starting point. Perform this sliding window approach for both alignments and plot both similarity sequences in a single figure. Which coronavirus is more similar to SARS-CoV-2 in the RBD, and which is more similar outside the RBD? Create a visualization similar to the one in Fig. 2a from [the original Nature paper](https://www.nature.com/articles/s41586-020-2169-0)\n",
    "to compare the human-to-bat and the human-to-pangolin alignments.\n",
    "\n",
    "Save your visualization to `recombination.svg`. Make sure you save the figure using `plt.savefig('recombination.svg')` to ensure the correct format.\n",
    "\n",
    "**[7 points]**\n",
    "\n",
    "Then answer the following questions about recombination:\n",
    "- Which coronavirus is more similar to SARS-CoV-2 inside the RBD and which is more similar outside the RBD? How did you observe this from a plot?\n",
    "- If the DNA template is swapped during replication, why are we observing amino acid sequence and not nucleotide sequence similarity?\n",
    "- Looking at your visualisation, are there other regions in the spike gene (or elsewhere in the genome) that could be due to recombination? Could there be an alternative explanation for the differences in these regions?\n",
    "\n",
    "Save your answers in the variables `recombination_inside_rbd`, `recombination_aminoacid_similarity` and `recombination_other_regions` respectively.\n",
    "\n",
    "**[3 points]**"
   ]
  },
  {
   "cell_type": "code",
   "execution_count": null,
   "metadata": {},
   "outputs": [],
   "source": [
    "accession_codes = {\n",
    "    \"Human-SARS-CoV-2\": \"NC_045512\",\n",
    "    \"Bat-CoV RaTG13\": \"MN996532\",\n",
    "    \"Pangolin-CoV MP789\": \"MT121216\",\n",
    "}"
   ]
  },
  {
   "cell_type": "code",
   "execution_count": null,
   "metadata": {},
   "outputs": [],
   "source": [
    "recombination_inside_rbd = \"\"\"\n",
    "Which coronavirus is more similar to SARS-CoV-2 inside the RBD and which is more similar outside the RBD?\n",
    "\"\"\""
   ]
  },
  {
   "cell_type": "code",
   "execution_count": null,
   "metadata": {},
   "outputs": [],
   "source": [
    "recombination_aminoacid_similarity = \"\"\"\n",
    "If the DNA template is swapped during replication, why are we observing amino acid sequence and not nucleotide sequence similarity?\n",
    "\"\"\""
   ]
  },
  {
   "cell_type": "code",
   "execution_count": null,
   "metadata": {},
   "outputs": [],
   "source": [
    "recombination_other_regions = \"\"\"\n",
    "Looking at your visualisation, are there other regions in the spike gene (or elsewhere in the genome) that could be due to recombination?\n",
    "\"\"\""
   ]
  },
  {
   "cell_type": "markdown",
   "metadata": {},
   "source": [
    "## Bonus 1: Bootstrap confidence\n",
    "\n",
    "We performed an alignement, calulated pairwise distances and built a phylogenetic tree. Are we confident in our phylogenetic tree? The answer is, we don't know, because we never estimated the uncertainty of our solution.\n",
    "\n",
    "In 1985, Joseph Felsenstein wrote an [article](https://pubmed.ncbi.nlm.nih.gov/28561359/) on estimating confidence limits of phylogenetic trees using a non-parametric bootstrap. It stands from the idea of creating bootstrap versions of alignment and building alternative phylogenetic trees. A confidence in a clade is then represented as a proportion of alternative trees that contain the same clade.\n",
    "\n",
    "To generate a bootstrap version of alignment with length $N$, we sample $N$ alignment positions with replacement. Rearanging sequences accoring to a sequence of sampled indicies give us an alternative alignment. Based on new alignment we calculate the distance and apply neighbor joining algorithm to get an alternative tree.\n",
    "\n",
    "Here we define a clade equivalence:\n",
    "*Let $L$ be a set of leaf nodes in a clade from original tree and $L'$ be a set of leaf nodes in a clade from alternative tree. Let $L_1$ and $L_2$ be sets of leaf nodes of both children of a clade, such that $L = L_1 \\bigcup L_2$. A clade of an alternative tree is considered the same if and only if $L = L'$ and ( $L_1 \\bigcap L_1' = \\emptyset\\;\\land\\;L_2 \\bigcap L_2'=\\emptyset$ or $L_1 \\bigcap L_2' = \\emptyset\\;\\land\\;L_2 \\bigcap L_1'=\\emptyset$ ).*\n",
    "\n",
    "You are now given a Clustal mutliple sequence alignment of spike proteins from the same coronavirses as before. The alignment is store in `data/clustal_MSA_coronavirus_spike.fasta`. Again use Hamming distance for calculating distance and Breda virus as an outgroup.\n",
    "\n",
    "**Task:** Construct a phylogenetic tree from spike protein MSA and use the bootstrap method for estimating confidence of each clade. Plot the phylogenetic tree and add confidence estimates on the plot.\n",
    "\n",
    "**a)** Construct 100 alternative trees from bootstraped coronavirus alignments. Make sure you root your trees before estimating confidence.\n",
    "\n",
    "**b)** Write a function to find a clade from the original tree in an alternative tree.\n",
    "\n",
    "**c)** Calculate and asign confidence value of a clade to an attribute `Node.confidence`. Note that leaf nodes always have confidence 1.\n",
    "\n",
    "**d)** Plot the phylogeny tree with confidence estimates using the same plotting function `plot_nj_tree` as in Problem 3. Do not plot confidence of leaf nodes.\n",
    "\n",
    "Save your plot into `confidence_tree.svg`. Make sure you save the figure using `plt.savefig('confidence_tree.svg')` to ensure the correct format.\n",
    "\n",
    "**[9 points]**\n",
    "\n",
    "Then answer the following question:\n",
    "- How does the phylogenetic tree compares to the one from Problem 3? Which part of the phylogenetic tree are we the least confident in?\n",
    "\n",
    "Store your answers in the `bootstrap_comparison` variable.\n",
    "\n",
    "\n",
    "**[1 points]**"
   ]
  },
  {
   "cell_type": "code",
   "execution_count": null,
   "metadata": {},
   "outputs": [],
   "source": [
    "bootstrap_comparison = \"\"\"\n",
    "How does the phylogenetic tree compares to the one from Problem 3? Which part of the phylogenetic tree are we the least confident in?\n",
    "\"\"\""
   ]
  },
  {
   "cell_type": "markdown",
   "metadata": {},
   "source": [
    "## Bonus 2: Radial dendrogram\n",
    "\n",
    "Use the template `plot_nj_tree_radial` function in the file `helper_functions.py` to write a plotting function for a radial dendrogram using the `matplotlib` library.\n",
    "\n",
    "Pseudocode for radial dedrogram is provided in the [implementation article](https://kops.uni-konstanz.de/bitstream/handle/123456789/5941/bbs_dpt_05.pdf?sequence=1&isAllowed=y).\n",
    "\n",
    "Plot the radial dedrogram for coronavirus spike protein MSA in the `data/clustal_MSA_coronavirus_spike.fasta` file.\n",
    "\n",
    "Save your figure in `radial_dendrogram.svg`. Make sure you save the figure using `plt.savefig('radial_dendrogram.svg')` to ensure the correct format.\n",
    "\n",
    "**[5 points]**"
   ]
  },
  {
   "cell_type": "markdown",
   "metadata": {},
   "source": []
  }
 ],
 "metadata": {
  "kernelspec": {
   "display_name": "Python 3",
   "language": "python",
   "name": "python3"
  },
  "language_info": {
   "codemirror_mode": {
    "name": "ipython",
    "version": 3
   },
   "file_extension": ".py",
   "mimetype": "text/x-python",
   "name": "python",
   "nbconvert_exporter": "python",
   "pygments_lexer": "ipython3",
   "version": "3.11.9"
  }
 },
 "nbformat": 4,
 "nbformat_minor": 4
}
